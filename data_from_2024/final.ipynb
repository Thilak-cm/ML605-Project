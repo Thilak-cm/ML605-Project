{
 "cells": [
  {
   "cell_type": "markdown",
   "id": "4497926f-a94a-4bbc-ac3a-7da8b1b4c64e",
   "metadata": {},
   "source": [
    "## Trip data"
   ]
  },
  {
   "cell_type": "code",
   "execution_count": 3,
   "id": "1dd0ccbd-3611-4a70-80f7-10e051ec1f2c",
   "metadata": {},
   "outputs": [
    {
     "name": "stdout",
     "output_type": "stream",
     "text": [
      "Requirement already satisfied: holidays in /opt/anaconda3/lib/python3.12/site-packages (0.69)\n",
      "Requirement already satisfied: python-dateutil in /opt/anaconda3/lib/python3.12/site-packages (from holidays) (2.9.0.post0)\n",
      "Requirement already satisfied: six>=1.5 in /opt/anaconda3/lib/python3.12/site-packages (from python-dateutil->holidays) (1.16.0)\n"
     ]
    }
   ],
   "source": [
    "!pip install holidays    # to mark holiday flag"
   ]
  },
  {
   "cell_type": "code",
   "execution_count": 4,
   "id": "8ddbac34-4279-4ce7-8222-50bef8e9ceb5",
   "metadata": {},
   "outputs": [],
   "source": [
    "import pandas as pd\n",
    "import glob\n",
    "import holidays"
   ]
  },
  {
   "cell_type": "code",
   "execution_count": 5,
   "id": "fb98b7db-1d9c-41a4-abf7-e67baef2ca17",
   "metadata": {},
   "outputs": [
    {
     "name": "stdout",
     "output_type": "stream",
     "text": [
      "   VendorID tpep_pickup_datetime tpep_dropoff_datetime  passenger_count  \\\n",
      "0         1  2024-04-01 00:02:40   2024-04-01 00:30:42              0.0   \n",
      "1         2  2024-04-01 00:41:12   2024-04-01 00:55:29              1.0   \n",
      "2         2  2024-04-01 00:48:42   2024-04-01 01:05:30              1.0   \n",
      "3         2  2024-04-01 00:56:02   2024-04-01 01:05:09              1.0   \n",
      "4         1  2024-04-01 00:08:32   2024-04-01 00:10:24              1.0   \n",
      "\n",
      "   trip_distance  RatecodeID store_and_fwd_flag  PULocationID  DOLocationID  \\\n",
      "0           5.20         1.0                  N           161             7   \n",
      "1           5.60         1.0                  N           264           264   \n",
      "2           3.55         1.0                  N           186           236   \n",
      "3           1.06         1.0                  N           137           164   \n",
      "4           0.70         1.0                  N           236           263   \n",
      "\n",
      "   payment_type  fare_amount  extra  mta_tax  tip_amount  tolls_amount  \\\n",
      "0             1         29.6    3.5      0.5        8.65           0.0   \n",
      "1             1         25.4    1.0      0.5       10.00           0.0   \n",
      "2             1         20.5    1.0      0.5        5.10           0.0   \n",
      "3             2         10.0    1.0      0.5        0.00           0.0   \n",
      "4             1          5.1    3.5      0.5        2.00           0.0   \n",
      "\n",
      "   improvement_surcharge  total_amount  congestion_surcharge  Airport_fee  \n",
      "0                    1.0         43.25                   2.5          0.0  \n",
      "1                    1.0         37.90                   0.0          0.0  \n",
      "2                    1.0         30.60                   2.5          0.0  \n",
      "3                    1.0         15.00                   2.5          0.0  \n",
      "4                    1.0         12.10                   2.5          0.0  \n"
     ]
    }
   ],
   "source": [
    "parquet_files = glob.glob('yellow_tripdata_2425/*.parquet')\n",
    "df = pd.concat([pd.read_parquet(file) for file in parquet_files], ignore_index=True)\n",
    "print(df.head())"
   ]
  },
  {
   "cell_type": "code",
   "execution_count": 6,
   "id": "f20b6bf4-2e8d-4691-a7a9-9dc5d50fc504",
   "metadata": {
    "scrolled": true
   },
   "outputs": [
    {
     "name": "stdout",
     "output_type": "stream",
     "text": [
      "VendorID                          int32\n",
      "tpep_pickup_datetime     datetime64[us]\n",
      "tpep_dropoff_datetime    datetime64[us]\n",
      "passenger_count                 float64\n",
      "trip_distance                   float64\n",
      "RatecodeID                      float64\n",
      "store_and_fwd_flag               object\n",
      "PULocationID                      int32\n",
      "DOLocationID                      int32\n",
      "payment_type                      int64\n",
      "fare_amount                     float64\n",
      "extra                           float64\n",
      "mta_tax                         float64\n",
      "tip_amount                      float64\n",
      "tolls_amount                    float64\n",
      "improvement_surcharge           float64\n",
      "total_amount                    float64\n",
      "congestion_surcharge            float64\n",
      "Airport_fee                     float64\n",
      "dtype: object\n"
     ]
    }
   ],
   "source": [
    "print(df.head().dtypes)"
   ]
  },
  {
   "cell_type": "code",
   "execution_count": 7,
   "id": "5d61b73f-3763-4fee-9e9b-904a2f7fd01b",
   "metadata": {
    "scrolled": true
   },
   "outputs": [
    {
     "data": {
      "text/plain": [
       "VendorID                 False\n",
       "tpep_pickup_datetime     False\n",
       "tpep_dropoff_datetime    False\n",
       "passenger_count           True\n",
       "trip_distance            False\n",
       "RatecodeID                True\n",
       "store_and_fwd_flag        True\n",
       "PULocationID             False\n",
       "DOLocationID             False\n",
       "payment_type             False\n",
       "fare_amount              False\n",
       "extra                    False\n",
       "mta_tax                  False\n",
       "tip_amount               False\n",
       "tolls_amount             False\n",
       "improvement_surcharge    False\n",
       "total_amount             False\n",
       "congestion_surcharge      True\n",
       "Airport_fee               True\n",
       "dtype: bool"
      ]
     },
     "execution_count": 7,
     "metadata": {},
     "output_type": "execute_result"
    }
   ],
   "source": [
    "df.isna().any()"
   ]
  },
  {
   "cell_type": "markdown",
   "id": "e91fba4b-9a26-4009-a4b8-17ef126ca4db",
   "metadata": {},
   "source": [
    "passenger_count: A driver-entered value. Some drivers might not enter how many passengers are in the vehicle, and some drivers have entered 0. In addition, it's irrelavant to prediction of taxi demand in NYC.<br>\n",
    "RatecodeID: Stands for the reason of the rate charged. Also irrelavant to prediction of taxi demand in NYC.<br>\n",
    "store_and_fwd_flag: A flag of whether the trip is previously stored before sent to the vendor. Also irrelavant to prediction of taxi demand in NYC.<br>\n",
    "congestion_surcharge: For NYS congestion surcharge. Also irrelavant to prediction of taxi demand in NYC.<br>\n",
    "Airport_fee: Somewhat relevant to the taxi demand in the airports of NYC. However, it's a value missing completely at random, so we can drop it.<br>"
   ]
  },
  {
   "cell_type": "code",
   "execution_count": 9,
   "id": "95cc0fa4-90ce-4195-bdab-1223aa18ad30",
   "metadata": {},
   "outputs": [],
   "source": [
    "# As stated above, all columns with null values can be dropped.\n",
    "df_cleaned = df.dropna(axis=1, how='any')"
   ]
  },
  {
   "cell_type": "code",
   "execution_count": 10,
   "id": "b75d399e-f1ce-42fc-a05f-af5aaa69932b",
   "metadata": {},
   "outputs": [
    {
     "data": {
      "text/plain": [
       "VendorID                 False\n",
       "tpep_pickup_datetime     False\n",
       "tpep_dropoff_datetime    False\n",
       "trip_distance            False\n",
       "PULocationID             False\n",
       "DOLocationID             False\n",
       "payment_type             False\n",
       "fare_amount              False\n",
       "extra                    False\n",
       "mta_tax                  False\n",
       "tip_amount               False\n",
       "tolls_amount             False\n",
       "improvement_surcharge    False\n",
       "total_amount             False\n",
       "dtype: bool"
      ]
     },
     "execution_count": 10,
     "metadata": {},
     "output_type": "execute_result"
    }
   ],
   "source": [
    "# check if there is any left columns with null values.\n",
    "df_cleaned.isna().any()"
   ]
  },
  {
   "cell_type": "code",
   "execution_count": 11,
   "id": "a605f243-ef63-4ab7-b918-792c0a1fbfb1",
   "metadata": {},
   "outputs": [],
   "source": [
    "# Then, we can drop all columns mentioning charges, it includes payment_type, \n",
    "# fare_amount, extra, mta_tax, tip_amount, tolls_amount, improvement_surcharge\n",
    "df_cleaned = df_cleaned.drop([\"payment_type\", \"fare_amount\", \"extra\", \"mta_tax\", \"tip_amount\", \n",
    "                              \"tolls_amount\", \"improvement_surcharge\"], axis=1)"
   ]
  },
  {
   "cell_type": "code",
   "execution_count": 12,
   "id": "fd273cdc-0a87-4556-a101-4daeb3d10416",
   "metadata": {},
   "outputs": [],
   "source": [
    "# Before dropping all charges, we need to assess the demand of taxi by total amount over trip distance\n",
    "df_cleaned['dist_avg_amt'] = df_cleaned['total_amount'] / df_cleaned['trip_distance']"
   ]
  },
  {
   "cell_type": "code",
   "execution_count": 13,
   "id": "161db0a7-9f86-4cf5-a179-5653896a11d6",
   "metadata": {},
   "outputs": [
    {
     "data": {
      "text/plain": [
       "VendorID                 False\n",
       "tpep_pickup_datetime     False\n",
       "tpep_dropoff_datetime    False\n",
       "trip_distance            False\n",
       "PULocationID             False\n",
       "DOLocationID             False\n",
       "total_amount             False\n",
       "dist_avg_amt              True\n",
       "dtype: bool"
      ]
     },
     "execution_count": 13,
     "metadata": {},
     "output_type": "execute_result"
    }
   ],
   "source": [
    "# check if there is any left columns with null values.\n",
    "df_cleaned.isna().any()"
   ]
  },
  {
   "cell_type": "code",
   "execution_count": 14,
   "id": "a752fce3-acfe-4278-8cac-723304584018",
   "metadata": {},
   "outputs": [],
   "source": [
    "# drop location ID 264 and 265 due to unknown zone name\n",
    "df_cleaned = df_cleaned[~(df_cleaned['PULocationID'].isin([264, 265]) & df_cleaned['DOLocationID'].isin([264, 265]))]"
   ]
  },
  {
   "cell_type": "code",
   "execution_count": 15,
   "id": "fa69cdda-c76d-49f8-a0a4-9f557964e649",
   "metadata": {},
   "outputs": [
    {
     "data": {
      "text/html": [
       "<div>\n",
       "<style scoped>\n",
       "    .dataframe tbody tr th:only-of-type {\n",
       "        vertical-align: middle;\n",
       "    }\n",
       "\n",
       "    .dataframe tbody tr th {\n",
       "        vertical-align: top;\n",
       "    }\n",
       "\n",
       "    .dataframe thead th {\n",
       "        text-align: right;\n",
       "    }\n",
       "</style>\n",
       "<table border=\"1\" class=\"dataframe\">\n",
       "  <thead>\n",
       "    <tr style=\"text-align: right;\">\n",
       "      <th></th>\n",
       "      <th>VendorID</th>\n",
       "      <th>tpep_pickup_datetime</th>\n",
       "      <th>tpep_dropoff_datetime</th>\n",
       "      <th>trip_distance</th>\n",
       "      <th>PULocationID</th>\n",
       "      <th>DOLocationID</th>\n",
       "      <th>total_amount</th>\n",
       "      <th>dist_avg_amt</th>\n",
       "    </tr>\n",
       "  </thead>\n",
       "  <tbody>\n",
       "    <tr>\n",
       "      <th>17642</th>\n",
       "      <td>1</td>\n",
       "      <td>2024-04-01 10:15:51</td>\n",
       "      <td>2024-04-01 10:17:14</td>\n",
       "      <td>0.0</td>\n",
       "      <td>140</td>\n",
       "      <td>140</td>\n",
       "      <td>0.0</td>\n",
       "      <td>NaN</td>\n",
       "    </tr>\n",
       "    <tr>\n",
       "      <th>25619</th>\n",
       "      <td>1</td>\n",
       "      <td>2024-04-01 11:05:35</td>\n",
       "      <td>2024-04-01 11:05:35</td>\n",
       "      <td>0.0</td>\n",
       "      <td>13</td>\n",
       "      <td>264</td>\n",
       "      <td>0.0</td>\n",
       "      <td>NaN</td>\n",
       "    </tr>\n",
       "    <tr>\n",
       "      <th>26008</th>\n",
       "      <td>1</td>\n",
       "      <td>2024-04-01 12:14:21</td>\n",
       "      <td>2024-04-01 12:15:38</td>\n",
       "      <td>0.0</td>\n",
       "      <td>207</td>\n",
       "      <td>207</td>\n",
       "      <td>0.0</td>\n",
       "      <td>NaN</td>\n",
       "    </tr>\n",
       "    <tr>\n",
       "      <th>37200</th>\n",
       "      <td>1</td>\n",
       "      <td>2024-04-01 14:36:56</td>\n",
       "      <td>2024-04-01 14:37:28</td>\n",
       "      <td>0.0</td>\n",
       "      <td>75</td>\n",
       "      <td>75</td>\n",
       "      <td>0.0</td>\n",
       "      <td>NaN</td>\n",
       "    </tr>\n",
       "    <tr>\n",
       "      <th>43121</th>\n",
       "      <td>1</td>\n",
       "      <td>2024-04-01 15:11:24</td>\n",
       "      <td>2024-04-01 15:15:37</td>\n",
       "      <td>0.0</td>\n",
       "      <td>211</td>\n",
       "      <td>231</td>\n",
       "      <td>0.0</td>\n",
       "      <td>NaN</td>\n",
       "    </tr>\n",
       "    <tr>\n",
       "      <th>...</th>\n",
       "      <td>...</td>\n",
       "      <td>...</td>\n",
       "      <td>...</td>\n",
       "      <td>...</td>\n",
       "      <td>...</td>\n",
       "      <td>...</td>\n",
       "      <td>...</td>\n",
       "      <td>...</td>\n",
       "    </tr>\n",
       "    <tr>\n",
       "      <th>44583719</th>\n",
       "      <td>1</td>\n",
       "      <td>2024-08-23 19:51:59</td>\n",
       "      <td>2024-08-23 19:52:15</td>\n",
       "      <td>0.0</td>\n",
       "      <td>43</td>\n",
       "      <td>43</td>\n",
       "      <td>0.0</td>\n",
       "      <td>NaN</td>\n",
       "    </tr>\n",
       "    <tr>\n",
       "      <th>44593873</th>\n",
       "      <td>1</td>\n",
       "      <td>2024-08-25 02:23:56</td>\n",
       "      <td>2024-08-25 02:30:42</td>\n",
       "      <td>0.0</td>\n",
       "      <td>255</td>\n",
       "      <td>255</td>\n",
       "      <td>0.0</td>\n",
       "      <td>NaN</td>\n",
       "    </tr>\n",
       "    <tr>\n",
       "      <th>44607497</th>\n",
       "      <td>1</td>\n",
       "      <td>2024-08-27 09:41:59</td>\n",
       "      <td>2024-08-27 09:51:30</td>\n",
       "      <td>0.0</td>\n",
       "      <td>90</td>\n",
       "      <td>90</td>\n",
       "      <td>0.0</td>\n",
       "      <td>NaN</td>\n",
       "    </tr>\n",
       "    <tr>\n",
       "      <th>44611538</th>\n",
       "      <td>1</td>\n",
       "      <td>2024-08-27 22:12:06</td>\n",
       "      <td>2024-08-27 22:12:16</td>\n",
       "      <td>0.0</td>\n",
       "      <td>93</td>\n",
       "      <td>93</td>\n",
       "      <td>0.0</td>\n",
       "      <td>NaN</td>\n",
       "    </tr>\n",
       "    <tr>\n",
       "      <th>44621049</th>\n",
       "      <td>1</td>\n",
       "      <td>2024-08-29 05:25:47</td>\n",
       "      <td>2024-08-29 05:27:16</td>\n",
       "      <td>0.0</td>\n",
       "      <td>164</td>\n",
       "      <td>164</td>\n",
       "      <td>0.0</td>\n",
       "      <td>NaN</td>\n",
       "    </tr>\n",
       "  </tbody>\n",
       "</table>\n",
       "<p>3243 rows × 8 columns</p>\n",
       "</div>"
      ],
      "text/plain": [
       "          VendorID tpep_pickup_datetime tpep_dropoff_datetime  trip_distance  \\\n",
       "17642            1  2024-04-01 10:15:51   2024-04-01 10:17:14            0.0   \n",
       "25619            1  2024-04-01 11:05:35   2024-04-01 11:05:35            0.0   \n",
       "26008            1  2024-04-01 12:14:21   2024-04-01 12:15:38            0.0   \n",
       "37200            1  2024-04-01 14:36:56   2024-04-01 14:37:28            0.0   \n",
       "43121            1  2024-04-01 15:11:24   2024-04-01 15:15:37            0.0   \n",
       "...            ...                  ...                   ...            ...   \n",
       "44583719         1  2024-08-23 19:51:59   2024-08-23 19:52:15            0.0   \n",
       "44593873         1  2024-08-25 02:23:56   2024-08-25 02:30:42            0.0   \n",
       "44607497         1  2024-08-27 09:41:59   2024-08-27 09:51:30            0.0   \n",
       "44611538         1  2024-08-27 22:12:06   2024-08-27 22:12:16            0.0   \n",
       "44621049         1  2024-08-29 05:25:47   2024-08-29 05:27:16            0.0   \n",
       "\n",
       "          PULocationID  DOLocationID  total_amount  dist_avg_amt  \n",
       "17642              140           140           0.0           NaN  \n",
       "25619               13           264           0.0           NaN  \n",
       "26008              207           207           0.0           NaN  \n",
       "37200               75            75           0.0           NaN  \n",
       "43121              211           231           0.0           NaN  \n",
       "...                ...           ...           ...           ...  \n",
       "44583719            43            43           0.0           NaN  \n",
       "44593873           255           255           0.0           NaN  \n",
       "44607497            90            90           0.0           NaN  \n",
       "44611538            93            93           0.0           NaN  \n",
       "44621049           164           164           0.0           NaN  \n",
       "\n",
       "[3243 rows x 8 columns]"
      ]
     },
     "execution_count": 15,
     "metadata": {},
     "output_type": "execute_result"
    }
   ],
   "source": [
    "df_cleaned[df_cleaned.isnull().any(axis=1)]"
   ]
  },
  {
   "cell_type": "markdown",
   "id": "4c9fb33c-a084-44c0-8ce1-8d55fd8b2d52",
   "metadata": {},
   "source": [
    "We've noticed that there are some null values of averaged amount over distance, it's because either the total amount or trip distance is 0. The reason for those zeros may be that those trips have been cancelled in the past. Therefore, we still need to remove those rows from the original dataframe."
   ]
  },
  {
   "cell_type": "code",
   "execution_count": 17,
   "id": "8cbd0fbe-3804-4f32-a2ab-a0dae9e06ba5",
   "metadata": {},
   "outputs": [],
   "source": [
    "# As stated above, those rows with null values can be dropped.\n",
    "df_cleaned = df_cleaned.dropna(axis=0, how='any')"
   ]
  },
  {
   "cell_type": "code",
   "execution_count": 18,
   "id": "06f9e7b7-45f6-443d-aac1-3841fc1c80ab",
   "metadata": {},
   "outputs": [
    {
     "data": {
      "text/plain": [
       "VendorID                 False\n",
       "tpep_pickup_datetime     False\n",
       "tpep_dropoff_datetime    False\n",
       "trip_distance            False\n",
       "PULocationID             False\n",
       "DOLocationID             False\n",
       "total_amount             False\n",
       "dist_avg_amt             False\n",
       "dtype: bool"
      ]
     },
     "execution_count": 18,
     "metadata": {},
     "output_type": "execute_result"
    }
   ],
   "source": [
    "# check if there is any left columns with null values.\n",
    "df_cleaned.isna().any()"
   ]
  },
  {
   "cell_type": "code",
   "execution_count": 19,
   "id": "dd777b04-60ea-4833-907c-fcdb0aa4bea6",
   "metadata": {},
   "outputs": [],
   "source": [
    "# Then we drop total amount\n",
    "df_cleaned = df_cleaned.drop([\"total_amount\"], axis=1)"
   ]
  },
  {
   "cell_type": "code",
   "execution_count": 20,
   "id": "a24ae13d-a798-4d96-9e3d-344595b694dd",
   "metadata": {},
   "outputs": [],
   "source": [
    "# Now we sort the records by ascending order of pickup datetime\n",
    "df_cleaned = df_cleaned.sort_values(by=\"tpep_pickup_datetime\", ascending=True)"
   ]
  },
  {
   "cell_type": "code",
   "execution_count": 21,
   "id": "61f26831-b432-48ce-8c93-e3e7f1948f91",
   "metadata": {},
   "outputs": [
    {
     "data": {
      "text/html": [
       "<div>\n",
       "<style scoped>\n",
       "    .dataframe tbody tr th:only-of-type {\n",
       "        vertical-align: middle;\n",
       "    }\n",
       "\n",
       "    .dataframe tbody tr th {\n",
       "        vertical-align: top;\n",
       "    }\n",
       "\n",
       "    .dataframe thead th {\n",
       "        text-align: right;\n",
       "    }\n",
       "</style>\n",
       "<table border=\"1\" class=\"dataframe\">\n",
       "  <thead>\n",
       "    <tr style=\"text-align: right;\">\n",
       "      <th></th>\n",
       "      <th>VendorID</th>\n",
       "      <th>tpep_pickup_datetime</th>\n",
       "      <th>tpep_dropoff_datetime</th>\n",
       "      <th>trip_distance</th>\n",
       "      <th>PULocationID</th>\n",
       "      <th>DOLocationID</th>\n",
       "      <th>dist_avg_amt</th>\n",
       "    </tr>\n",
       "  </thead>\n",
       "  <tbody>\n",
       "    <tr>\n",
       "      <th>4596594</th>\n",
       "      <td>2</td>\n",
       "      <td>2002-12-31 16:46:07</td>\n",
       "      <td>2002-12-31 17:24:07</td>\n",
       "      <td>7.77</td>\n",
       "      <td>138</td>\n",
       "      <td>263</td>\n",
       "      <td>8.066924</td>\n",
       "    </tr>\n",
       "    <tr>\n",
       "      <th>296209</th>\n",
       "      <td>2</td>\n",
       "      <td>2002-12-31 22:10:04</td>\n",
       "      <td>2002-12-31 22:14:22</td>\n",
       "      <td>7.55</td>\n",
       "      <td>170</td>\n",
       "      <td>231</td>\n",
       "      <td>6.055629</td>\n",
       "    </tr>\n",
       "    <tr>\n",
       "      <th>19000195</th>\n",
       "      <td>2</td>\n",
       "      <td>2002-12-31 22:17:10</td>\n",
       "      <td>2002-12-31 22:42:24</td>\n",
       "      <td>1.40</td>\n",
       "      <td>50</td>\n",
       "      <td>162</td>\n",
       "      <td>12.857143</td>\n",
       "    </tr>\n",
       "    <tr>\n",
       "      <th>41059314</th>\n",
       "      <td>2</td>\n",
       "      <td>2002-12-31 22:17:43</td>\n",
       "      <td>2002-12-31 22:23:55</td>\n",
       "      <td>0.67</td>\n",
       "      <td>237</td>\n",
       "      <td>140</td>\n",
       "      <td>17.761194</td>\n",
       "    </tr>\n",
       "    <tr>\n",
       "      <th>611171</th>\n",
       "      <td>2</td>\n",
       "      <td>2002-12-31 22:19:28</td>\n",
       "      <td>2003-01-01 18:58:09</td>\n",
       "      <td>0.55</td>\n",
       "      <td>246</td>\n",
       "      <td>68</td>\n",
       "      <td>20.363636</td>\n",
       "    </tr>\n",
       "  </tbody>\n",
       "</table>\n",
       "</div>"
      ],
      "text/plain": [
       "          VendorID tpep_pickup_datetime tpep_dropoff_datetime  trip_distance  \\\n",
       "4596594          2  2002-12-31 16:46:07   2002-12-31 17:24:07           7.77   \n",
       "296209           2  2002-12-31 22:10:04   2002-12-31 22:14:22           7.55   \n",
       "19000195         2  2002-12-31 22:17:10   2002-12-31 22:42:24           1.40   \n",
       "41059314         2  2002-12-31 22:17:43   2002-12-31 22:23:55           0.67   \n",
       "611171           2  2002-12-31 22:19:28   2003-01-01 18:58:09           0.55   \n",
       "\n",
       "          PULocationID  DOLocationID  dist_avg_amt  \n",
       "4596594            138           263      8.066924  \n",
       "296209             170           231      6.055629  \n",
       "19000195            50           162     12.857143  \n",
       "41059314           237           140     17.761194  \n",
       "611171             246            68     20.363636  "
      ]
     },
     "execution_count": 21,
     "metadata": {},
     "output_type": "execute_result"
    }
   ],
   "source": [
    "# check the first five lines of the dataframe\n",
    "df_cleaned.head()"
   ]
  },
  {
   "cell_type": "markdown",
   "id": "14e267de-6678-4e83-8e92-1f1e8de4a142",
   "metadata": {},
   "source": [
    "The reason why there are some records as old as 2002 is that some of the records were just reported to NYC government. It seems weird so we delete them from the original dataset."
   ]
  },
  {
   "cell_type": "code",
   "execution_count": 23,
   "id": "6c14b673-c077-47a8-8ab2-9e47496e57e2",
   "metadata": {},
   "outputs": [],
   "source": [
    "start = pd.to_datetime(\"2023-12-31\")\n",
    "df_cleaned = df_cleaned[df_cleaned[\"tpep_pickup_datetime\"] >= start]"
   ]
  },
  {
   "cell_type": "code",
   "execution_count": 24,
   "id": "909ddd5c-c6d5-4943-b6d5-874e52516ba9",
   "metadata": {},
   "outputs": [],
   "source": [
    "# Finally, we put on holiday flag\n",
    "\n",
    "# U.S. holidays for relevant years\n",
    "us_holidays = holidays.US(years=df_cleaned[\"tpep_pickup_datetime\"].dt.year.unique())\n",
    "\n",
    "# Convert to datetime64[ns] for safe comparison\n",
    "holiday_dates = pd.to_datetime(list(us_holidays.keys()))\n",
    "\n",
    "# Mark holiday and weekend flag\n",
    "df_cleaned[\"is_holiday_or_weekend\"] = df_cleaned[\"tpep_pickup_datetime\"].isin(holiday_dates) | df_cleaned[\"tpep_pickup_datetime\"].dt.weekday >= 5"
   ]
  },
  {
   "cell_type": "code",
   "execution_count": 25,
   "id": "dd43a817-e31e-4801-8504-9cb7c64b9e32",
   "metadata": {},
   "outputs": [
    {
     "data": {
      "text/html": [
       "<div>\n",
       "<style scoped>\n",
       "    .dataframe tbody tr th:only-of-type {\n",
       "        vertical-align: middle;\n",
       "    }\n",
       "\n",
       "    .dataframe tbody tr th {\n",
       "        vertical-align: top;\n",
       "    }\n",
       "\n",
       "    .dataframe thead th {\n",
       "        text-align: right;\n",
       "    }\n",
       "</style>\n",
       "<table border=\"1\" class=\"dataframe\">\n",
       "  <thead>\n",
       "    <tr style=\"text-align: right;\">\n",
       "      <th></th>\n",
       "      <th>VendorID</th>\n",
       "      <th>tpep_pickup_datetime</th>\n",
       "      <th>tpep_dropoff_datetime</th>\n",
       "      <th>trip_distance</th>\n",
       "      <th>PULocationID</th>\n",
       "      <th>DOLocationID</th>\n",
       "      <th>dist_avg_amt</th>\n",
       "      <th>is_holiday_or_weekend</th>\n",
       "    </tr>\n",
       "  </thead>\n",
       "  <tbody>\n",
       "    <tr>\n",
       "      <th>35055139</th>\n",
       "      <td>2</td>\n",
       "      <td>2023-12-31 23:39:17</td>\n",
       "      <td>2023-12-31 23:42:00</td>\n",
       "      <td>0.47</td>\n",
       "      <td>90</td>\n",
       "      <td>68</td>\n",
       "      <td>21.489362</td>\n",
       "      <td>False</td>\n",
       "    </tr>\n",
       "    <tr>\n",
       "      <th>35055523</th>\n",
       "      <td>2</td>\n",
       "      <td>2023-12-31 23:41:02</td>\n",
       "      <td>2023-12-31 23:48:03</td>\n",
       "      <td>0.40</td>\n",
       "      <td>246</td>\n",
       "      <td>246</td>\n",
       "      <td>30.500000</td>\n",
       "      <td>False</td>\n",
       "    </tr>\n",
       "    <tr>\n",
       "      <th>35057946</th>\n",
       "      <td>2</td>\n",
       "      <td>2023-12-31 23:47:28</td>\n",
       "      <td>2023-12-31 23:57:07</td>\n",
       "      <td>1.44</td>\n",
       "      <td>68</td>\n",
       "      <td>137</td>\n",
       "      <td>13.083333</td>\n",
       "      <td>False</td>\n",
       "    </tr>\n",
       "    <tr>\n",
       "      <th>35057755</th>\n",
       "      <td>2</td>\n",
       "      <td>2023-12-31 23:49:12</td>\n",
       "      <td>2024-01-01 00:04:32</td>\n",
       "      <td>3.14</td>\n",
       "      <td>234</td>\n",
       "      <td>237</td>\n",
       "      <td>9.108280</td>\n",
       "      <td>False</td>\n",
       "    </tr>\n",
       "    <tr>\n",
       "      <th>35063398</th>\n",
       "      <td>2</td>\n",
       "      <td>2023-12-31 23:54:27</td>\n",
       "      <td>2024-01-01 00:13:12</td>\n",
       "      <td>7.70</td>\n",
       "      <td>229</td>\n",
       "      <td>244</td>\n",
       "      <td>5.937662</td>\n",
       "      <td>False</td>\n",
       "    </tr>\n",
       "  </tbody>\n",
       "</table>\n",
       "</div>"
      ],
      "text/plain": [
       "          VendorID tpep_pickup_datetime tpep_dropoff_datetime  trip_distance  \\\n",
       "35055139         2  2023-12-31 23:39:17   2023-12-31 23:42:00           0.47   \n",
       "35055523         2  2023-12-31 23:41:02   2023-12-31 23:48:03           0.40   \n",
       "35057946         2  2023-12-31 23:47:28   2023-12-31 23:57:07           1.44   \n",
       "35057755         2  2023-12-31 23:49:12   2024-01-01 00:04:32           3.14   \n",
       "35063398         2  2023-12-31 23:54:27   2024-01-01 00:13:12           7.70   \n",
       "\n",
       "          PULocationID  DOLocationID  dist_avg_amt  is_holiday_or_weekend  \n",
       "35055139            90            68     21.489362                  False  \n",
       "35055523           246           246     30.500000                  False  \n",
       "35057946            68           137     13.083333                  False  \n",
       "35057755           234           237      9.108280                  False  \n",
       "35063398           229           244      5.937662                  False  "
      ]
     },
     "execution_count": 25,
     "metadata": {},
     "output_type": "execute_result"
    }
   ],
   "source": [
    "# print out the first five rows of vendors\n",
    "df_cleaned.head()"
   ]
  },
  {
   "cell_type": "code",
   "execution_count": 26,
   "id": "0fca757d-ebe1-49a2-8004-d594a48c2a26",
   "metadata": {},
   "outputs": [],
   "source": [
    "# Export the cleaned dataframe to a CSV file\n",
    "df_cleaned.to_csv('cleaned_taxi_data.csv', index=False)"
   ]
  },
  {
   "cell_type": "markdown",
   "id": "815f5f48-6531-4aea-b11a-0687514a42b0",
   "metadata": {},
   "source": [
    "## Weather data"
   ]
  },
  {
   "cell_type": "code",
   "execution_count": 28,
   "id": "593a038e-2f35-48db-a7b1-c6404824efb0",
   "metadata": {},
   "outputs": [],
   "source": [
    "# read the original data\n",
    "dfw = pd.read_csv('NYC_weather_from_1979.csv')"
   ]
  },
  {
   "cell_type": "code",
   "execution_count": 29,
   "id": "4ace2538-6123-44ce-86d7-08bc65e4b381",
   "metadata": {},
   "outputs": [
    {
     "name": "stdout",
     "output_type": "stream",
     "text": [
      "dt                       int64\n",
      "dt_iso                  object\n",
      "timezone                 int64\n",
      "city_name               object\n",
      "lat                    float64\n",
      "lon                    float64\n",
      "temp                   float64\n",
      "visibility             float64\n",
      "dew_point              float64\n",
      "feels_like             float64\n",
      "temp_min               float64\n",
      "temp_max               float64\n",
      "pressure                 int64\n",
      "sea_level              float64\n",
      "grnd_level             float64\n",
      "humidity                 int64\n",
      "wind_speed             float64\n",
      "wind_deg                 int64\n",
      "wind_gust              float64\n",
      "rain_1h                float64\n",
      "rain_3h                float64\n",
      "snow_1h                float64\n",
      "snow_3h                float64\n",
      "clouds_all               int64\n",
      "weather_id               int64\n",
      "weather_main            object\n",
      "weather_description     object\n",
      "weather_icon            object\n",
      "dtype: object\n"
     ]
    }
   ],
   "source": [
    "# check the data types for each value\n",
    "print(dfw.dtypes)"
   ]
  },
  {
   "cell_type": "code",
   "execution_count": 30,
   "id": "0cc63f9f-e4da-46b9-a172-2729035ca6e1",
   "metadata": {},
   "outputs": [
    {
     "data": {
      "text/plain": [
       "dt                     False\n",
       "dt_iso                 False\n",
       "timezone               False\n",
       "city_name              False\n",
       "lat                    False\n",
       "lon                    False\n",
       "temp                   False\n",
       "visibility              True\n",
       "dew_point              False\n",
       "feels_like             False\n",
       "temp_min               False\n",
       "temp_max               False\n",
       "pressure               False\n",
       "sea_level               True\n",
       "grnd_level              True\n",
       "humidity               False\n",
       "wind_speed             False\n",
       "wind_deg               False\n",
       "wind_gust               True\n",
       "rain_1h                 True\n",
       "rain_3h                 True\n",
       "snow_1h                 True\n",
       "snow_3h                 True\n",
       "clouds_all             False\n",
       "weather_id             False\n",
       "weather_main           False\n",
       "weather_description    False\n",
       "weather_icon           False\n",
       "dtype: bool"
      ]
     },
     "execution_count": 30,
     "metadata": {},
     "output_type": "execute_result"
    }
   ],
   "source": [
    "# check where the null values appear\n",
    "dfw.isna().any()"
   ]
  },
  {
   "cell_type": "code",
   "execution_count": 31,
   "id": "82f1a194-eccc-45a6-917a-126d52166a6b",
   "metadata": {},
   "outputs": [],
   "source": [
    "# convert the timestamp column from object to datetime\n",
    "dfw[\"dt_iso\"] = pd.to_datetime(dfw[\"dt_iso\"].str.replace(\" UTC\", \"\", regex=False)).dt.tz_convert(None)"
   ]
  },
  {
   "cell_type": "code",
   "execution_count": 32,
   "id": "36ae6d14-f226-440e-8908-aa7ccad957a7",
   "metadata": {},
   "outputs": [
    {
     "name": "stdout",
     "output_type": "stream",
     "text": [
      "datetime64[ns]\n"
     ]
    }
   ],
   "source": [
    "print(dfw['dt_iso'].dtypes)"
   ]
  },
  {
   "cell_type": "code",
   "execution_count": 33,
   "id": "c30bec72-4b1a-4fcc-880f-ab07830fd14e",
   "metadata": {},
   "outputs": [],
   "source": [
    "# we only need to keep several columns\n",
    "columns_to_keep = [\"dt_iso\",\"temp\",\"feels_like\",\"temp_min\",\"temp_max\",\"wind_speed\",\"rain_1h\",\"weather_id\",\"weather_main\",\"weather_description\"]\n",
    "dfw = dfw[[col for col in columns_to_keep if col in dfw.columns]]"
   ]
  },
  {
   "cell_type": "code",
   "execution_count": 34,
   "id": "c9e9e77e-efb8-44ee-9ebc-70aef0ef6a68",
   "metadata": {},
   "outputs": [
    {
     "data": {
      "text/plain": [
       "dt_iso                 False\n",
       "temp                   False\n",
       "feels_like             False\n",
       "temp_min               False\n",
       "temp_max               False\n",
       "wind_speed             False\n",
       "rain_1h                 True\n",
       "weather_id             False\n",
       "weather_main           False\n",
       "weather_description    False\n",
       "dtype: bool"
      ]
     },
     "execution_count": 34,
     "metadata": {},
     "output_type": "execute_result"
    }
   ],
   "source": [
    "# check where the null values appear\n",
    "dfw.isna().any()"
   ]
  },
  {
   "cell_type": "code",
   "execution_count": 35,
   "id": "8a0e7597-af68-41ff-86e0-ba0c0f6ce338",
   "metadata": {},
   "outputs": [],
   "source": [
    "# since all null values appear in the column \"rain_1h\" when the weather is not rainy, so we can fill all of them with zero.\n",
    "dfw.fillna(0.0, inplace=True)"
   ]
  },
  {
   "cell_type": "markdown",
   "id": "47f79bfa-c794-4950-8290-a074d4bb75a9",
   "metadata": {},
   "source": [
    "All the temperatures are in Celcius for convenience of measurement."
   ]
  },
  {
   "cell_type": "code",
   "execution_count": 37,
   "id": "f24776dd-6d9f-4674-8cf3-331aed3bc69b",
   "metadata": {},
   "outputs": [
    {
     "data": {
      "text/html": [
       "<div>\n",
       "<style scoped>\n",
       "    .dataframe tbody tr th:only-of-type {\n",
       "        vertical-align: middle;\n",
       "    }\n",
       "\n",
       "    .dataframe tbody tr th {\n",
       "        vertical-align: top;\n",
       "    }\n",
       "\n",
       "    .dataframe thead th {\n",
       "        text-align: right;\n",
       "    }\n",
       "</style>\n",
       "<table border=\"1\" class=\"dataframe\">\n",
       "  <thead>\n",
       "    <tr style=\"text-align: right;\">\n",
       "      <th></th>\n",
       "      <th>dt_iso</th>\n",
       "      <th>temp</th>\n",
       "      <th>feels_like</th>\n",
       "      <th>temp_min</th>\n",
       "      <th>temp_max</th>\n",
       "      <th>wind_speed</th>\n",
       "      <th>rain_1h</th>\n",
       "      <th>weather_id</th>\n",
       "      <th>weather_main</th>\n",
       "      <th>weather_description</th>\n",
       "    </tr>\n",
       "  </thead>\n",
       "  <tbody>\n",
       "    <tr>\n",
       "      <th>0</th>\n",
       "      <td>1979-01-01 00:00:00</td>\n",
       "      <td>6.39</td>\n",
       "      <td>2.40</td>\n",
       "      <td>5.85</td>\n",
       "      <td>7.19</td>\n",
       "      <td>6.70</td>\n",
       "      <td>0.0</td>\n",
       "      <td>741</td>\n",
       "      <td>Fog</td>\n",
       "      <td>fog</td>\n",
       "    </tr>\n",
       "    <tr>\n",
       "      <th>1</th>\n",
       "      <td>1979-01-01 00:00:00</td>\n",
       "      <td>6.39</td>\n",
       "      <td>2.40</td>\n",
       "      <td>5.85</td>\n",
       "      <td>7.19</td>\n",
       "      <td>6.70</td>\n",
       "      <td>0.0</td>\n",
       "      <td>310</td>\n",
       "      <td>Drizzle</td>\n",
       "      <td>light intensity drizzle rain</td>\n",
       "    </tr>\n",
       "    <tr>\n",
       "      <th>2</th>\n",
       "      <td>1979-01-01 00:00:00</td>\n",
       "      <td>6.39</td>\n",
       "      <td>2.40</td>\n",
       "      <td>5.85</td>\n",
       "      <td>7.19</td>\n",
       "      <td>6.70</td>\n",
       "      <td>0.0</td>\n",
       "      <td>500</td>\n",
       "      <td>Rain</td>\n",
       "      <td>light rain</td>\n",
       "    </tr>\n",
       "    <tr>\n",
       "      <th>3</th>\n",
       "      <td>1979-01-01 01:00:00</td>\n",
       "      <td>6.15</td>\n",
       "      <td>3.90</td>\n",
       "      <td>5.67</td>\n",
       "      <td>6.94</td>\n",
       "      <td>2.98</td>\n",
       "      <td>0.0</td>\n",
       "      <td>804</td>\n",
       "      <td>Clouds</td>\n",
       "      <td>overcast clouds</td>\n",
       "    </tr>\n",
       "    <tr>\n",
       "      <th>4</th>\n",
       "      <td>1979-01-01 02:00:00</td>\n",
       "      <td>6.25</td>\n",
       "      <td>3.93</td>\n",
       "      <td>5.68</td>\n",
       "      <td>7.20</td>\n",
       "      <td>3.12</td>\n",
       "      <td>0.0</td>\n",
       "      <td>804</td>\n",
       "      <td>Clouds</td>\n",
       "      <td>overcast clouds</td>\n",
       "    </tr>\n",
       "  </tbody>\n",
       "</table>\n",
       "</div>"
      ],
      "text/plain": [
       "               dt_iso  temp  feels_like  temp_min  temp_max  wind_speed  \\\n",
       "0 1979-01-01 00:00:00  6.39        2.40      5.85      7.19        6.70   \n",
       "1 1979-01-01 00:00:00  6.39        2.40      5.85      7.19        6.70   \n",
       "2 1979-01-01 00:00:00  6.39        2.40      5.85      7.19        6.70   \n",
       "3 1979-01-01 01:00:00  6.15        3.90      5.67      6.94        2.98   \n",
       "4 1979-01-01 02:00:00  6.25        3.93      5.68      7.20        3.12   \n",
       "\n",
       "   rain_1h  weather_id weather_main           weather_description  \n",
       "0      0.0         741          Fog                           fog  \n",
       "1      0.0         310      Drizzle  light intensity drizzle rain  \n",
       "2      0.0         500         Rain                    light rain  \n",
       "3      0.0         804       Clouds               overcast clouds  \n",
       "4      0.0         804       Clouds               overcast clouds  "
      ]
     },
     "execution_count": 37,
     "metadata": {},
     "output_type": "execute_result"
    }
   ],
   "source": [
    "# print the first five lines of weather data\n",
    "dfw.head()"
   ]
  },
  {
   "cell_type": "code",
   "execution_count": 38,
   "id": "ee4c64a3-f048-4be1-bfdc-846b28806abc",
   "metadata": {},
   "outputs": [],
   "source": [
    "# Here, if we only need the year of 2024 ~ 2025, we can select those\n",
    "# However, consider that the trip data starts as old as 2002-12-31, we also need to select weather data at that time\n",
    "dfw24 = dfw[\n",
    "    (dfw[\"dt_iso\"] >= \"2002-12-31\") & \n",
    "    (dfw[\"dt_iso\"] < \"2026-01-01\")\n",
    "]"
   ]
  },
  {
   "cell_type": "code",
   "execution_count": 39,
   "id": "d53bc157-3c42-4743-a203-9982bab9f3c6",
   "metadata": {
    "scrolled": true
   },
   "outputs": [
    {
     "data": {
      "text/html": [
       "<div>\n",
       "<style scoped>\n",
       "    .dataframe tbody tr th:only-of-type {\n",
       "        vertical-align: middle;\n",
       "    }\n",
       "\n",
       "    .dataframe tbody tr th {\n",
       "        vertical-align: top;\n",
       "    }\n",
       "\n",
       "    .dataframe thead th {\n",
       "        text-align: right;\n",
       "    }\n",
       "</style>\n",
       "<table border=\"1\" class=\"dataframe\">\n",
       "  <thead>\n",
       "    <tr style=\"text-align: right;\">\n",
       "      <th></th>\n",
       "      <th>dt_iso</th>\n",
       "      <th>temp</th>\n",
       "      <th>feels_like</th>\n",
       "      <th>temp_min</th>\n",
       "      <th>temp_max</th>\n",
       "      <th>wind_speed</th>\n",
       "      <th>rain_1h</th>\n",
       "      <th>weather_id</th>\n",
       "      <th>weather_main</th>\n",
       "      <th>weather_description</th>\n",
       "    </tr>\n",
       "  </thead>\n",
       "  <tbody>\n",
       "    <tr>\n",
       "      <th>225505</th>\n",
       "      <td>2002-12-31 00:00:00</td>\n",
       "      <td>3.00</td>\n",
       "      <td>-0.95</td>\n",
       "      <td>2.37</td>\n",
       "      <td>3.65</td>\n",
       "      <td>4.6</td>\n",
       "      <td>0.00</td>\n",
       "      <td>803</td>\n",
       "      <td>Clouds</td>\n",
       "      <td>broken clouds</td>\n",
       "    </tr>\n",
       "    <tr>\n",
       "      <th>225506</th>\n",
       "      <td>2002-12-31 01:00:00</td>\n",
       "      <td>3.06</td>\n",
       "      <td>-0.26</td>\n",
       "      <td>2.28</td>\n",
       "      <td>4.18</td>\n",
       "      <td>3.6</td>\n",
       "      <td>0.00</td>\n",
       "      <td>804</td>\n",
       "      <td>Clouds</td>\n",
       "      <td>overcast clouds</td>\n",
       "    </tr>\n",
       "    <tr>\n",
       "      <th>225507</th>\n",
       "      <td>2002-12-31 02:00:00</td>\n",
       "      <td>3.12</td>\n",
       "      <td>-1.12</td>\n",
       "      <td>2.46</td>\n",
       "      <td>4.11</td>\n",
       "      <td>5.2</td>\n",
       "      <td>0.81</td>\n",
       "      <td>500</td>\n",
       "      <td>Rain</td>\n",
       "      <td>light rain</td>\n",
       "    </tr>\n",
       "    <tr>\n",
       "      <th>225508</th>\n",
       "      <td>2002-12-31 03:00:00</td>\n",
       "      <td>3.82</td>\n",
       "      <td>0.66</td>\n",
       "      <td>3.09</td>\n",
       "      <td>4.69</td>\n",
       "      <td>3.6</td>\n",
       "      <td>0.69</td>\n",
       "      <td>500</td>\n",
       "      <td>Rain</td>\n",
       "      <td>light rain</td>\n",
       "    </tr>\n",
       "    <tr>\n",
       "      <th>225509</th>\n",
       "      <td>2002-12-31 04:00:00</td>\n",
       "      <td>3.77</td>\n",
       "      <td>0.95</td>\n",
       "      <td>3.29</td>\n",
       "      <td>4.32</td>\n",
       "      <td>3.1</td>\n",
       "      <td>0.30</td>\n",
       "      <td>500</td>\n",
       "      <td>Rain</td>\n",
       "      <td>light rain</td>\n",
       "    </tr>\n",
       "  </tbody>\n",
       "</table>\n",
       "</div>"
      ],
      "text/plain": [
       "                    dt_iso  temp  feels_like  temp_min  temp_max  wind_speed  \\\n",
       "225505 2002-12-31 00:00:00  3.00       -0.95      2.37      3.65         4.6   \n",
       "225506 2002-12-31 01:00:00  3.06       -0.26      2.28      4.18         3.6   \n",
       "225507 2002-12-31 02:00:00  3.12       -1.12      2.46      4.11         5.2   \n",
       "225508 2002-12-31 03:00:00  3.82        0.66      3.09      4.69         3.6   \n",
       "225509 2002-12-31 04:00:00  3.77        0.95      3.29      4.32         3.1   \n",
       "\n",
       "        rain_1h  weather_id weather_main weather_description  \n",
       "225505     0.00         803       Clouds       broken clouds  \n",
       "225506     0.00         804       Clouds     overcast clouds  \n",
       "225507     0.81         500         Rain          light rain  \n",
       "225508     0.69         500         Rain          light rain  \n",
       "225509     0.30         500         Rain          light rain  "
      ]
     },
     "execution_count": 39,
     "metadata": {},
     "output_type": "execute_result"
    }
   ],
   "source": [
    "# check the first five lines\n",
    "dfw24.head()"
   ]
  },
  {
   "cell_type": "code",
   "execution_count": 40,
   "id": "af71a11b-cdda-4db5-a676-2ad489160857",
   "metadata": {},
   "outputs": [
    {
     "name": "stdout",
     "output_type": "stream",
     "text": [
      "<class 'pandas.core.frame.DataFrame'>\n",
      "Index: 209417 entries, 225505 to 434921\n",
      "Data columns (total 10 columns):\n",
      " #   Column               Non-Null Count   Dtype         \n",
      "---  ------               --------------   -----         \n",
      " 0   dt_iso               209417 non-null  datetime64[ns]\n",
      " 1   temp                 209417 non-null  float64       \n",
      " 2   feels_like           209417 non-null  float64       \n",
      " 3   temp_min             209417 non-null  float64       \n",
      " 4   temp_max             209417 non-null  float64       \n",
      " 5   wind_speed           209417 non-null  float64       \n",
      " 6   rain_1h              209417 non-null  float64       \n",
      " 7   weather_id           209417 non-null  int64         \n",
      " 8   weather_main         209417 non-null  object        \n",
      " 9   weather_description  209417 non-null  object        \n",
      "dtypes: datetime64[ns](1), float64(6), int64(1), object(2)\n",
      "memory usage: 17.6+ MB\n"
     ]
    }
   ],
   "source": [
    "# show the data types\n",
    "dfw24.info()"
   ]
  },
  {
   "cell_type": "code",
   "execution_count": 41,
   "id": "729f7bc7-fa02-4b99-b820-b7547b759a2d",
   "metadata": {},
   "outputs": [],
   "source": [
    "# Export the cleaned dataframe to a CSV file\n",
    "dfw24.to_csv('weather_data.csv', index=False)"
   ]
  }
 ],
 "metadata": {
  "kernelspec": {
   "display_name": "Python 3 (ipykernel)",
   "language": "python",
   "name": "python3"
  },
  "language_info": {
   "codemirror_mode": {
    "name": "ipython",
    "version": 3
   },
   "file_extension": ".py",
   "mimetype": "text/x-python",
   "name": "python",
   "nbconvert_exporter": "python",
   "pygments_lexer": "ipython3",
   "version": "3.12.2"
  }
 },
 "nbformat": 4,
 "nbformat_minor": 5
}
